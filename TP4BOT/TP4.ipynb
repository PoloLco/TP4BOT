{
 "cells": [
  {
   "cell_type": "code",
   "execution_count": null,
   "metadata": {},
   "outputs": [],
   "source": [
    "1) un bot est un programme autonome sur internet ou autre qui peut interagir avec le systeme ou l utilisateur."
   ]
  },
  {
   "cell_type": "code",
   "execution_count": null,
   "metadata": {},
   "outputs": [],
   "source": [
    "2) Le logging est un type de fichier dont la mission principale est de stocker un historique d evenements. Les logs sont donc une sorte de journal qui ordonne les differents\n",
    "evenements qui se sont passé sur un ordinateur ou un serveur."
   ]
  }
 ],
 "metadata": {
  "language_info": {
   "name": "python"
  },
  "orig_nbformat": 4
 },
 "nbformat": 4,
 "nbformat_minor": 2
}
